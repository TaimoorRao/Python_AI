{
 "cells": [
  {
   "cell_type": "code",
   "execution_count": 43,
   "metadata": {},
   "outputs": [
    {
     "ename": "ZeroDivisionError",
     "evalue": "division by zero",
     "output_type": "error",
     "traceback": [
      "\u001b[0;31m---------------------------------------------------------------------------\u001b[0m",
      "\u001b[0;31mZeroDivisionError\u001b[0m                         Traceback (most recent call last)",
      "\u001b[0;32m<ipython-input-43-d6db690f4e44>\u001b[0m in \u001b[0;36m<module>\u001b[0;34m\u001b[0m\n\u001b[0;32m----> 1\u001b[0;31m \u001b[0;36m5\u001b[0m\u001b[0;34m/\u001b[0m\u001b[0;36m0\u001b[0m\u001b[0;34m\u001b[0m\u001b[0;34m\u001b[0m\u001b[0m\n\u001b[0m\u001b[1;32m      2\u001b[0m \u001b[0mprint\u001b[0m\u001b[0;34m(\u001b[0m\u001b[0;34m\"hellow\"\u001b[0m\u001b[0;34m)\u001b[0m\u001b[0;34m\u001b[0m\u001b[0;34m\u001b[0m\u001b[0m\n",
      "\u001b[0;31mZeroDivisionError\u001b[0m: division by zero"
     ]
    }
   ],
   "source": [
    "5/0\n",
    "print(\"hellow\")"
   ]
  },
  {
   "cell_type": "code",
   "execution_count": 1,
   "metadata": {},
   "outputs": [
    {
     "name": "stdout",
     "output_type": "stream",
     "text": [
      "Enter a number8\n",
      "Enter a number0\n",
      "Exception is caught ZeroDivisionError\n"
     ]
    }
   ],
   "source": [
    "\n",
    "\n",
    "a =int(input(\"Enter a number\")) \n",
    "b =int(input(\"Enter a number\")) \n",
    "try:\n",
    "    c = a/b\n",
    "    print(c)\n",
    "except ZeroDivisionError:\n",
    "    print(\"Exception is caught ZeroDivisionError\")\n",
    "\n",
    "\n"
   ]
  },
  {
   "cell_type": "code",
   "execution_count": 2,
   "metadata": {},
   "outputs": [
    {
     "name": "stdout",
     "output_type": "stream",
     "text": [
      "Enter a number1\n",
      "Enter a number2\n",
      "0.5\n"
     ]
    }
   ],
   "source": [
    "\n",
    "\n",
    "a =int(input(\"Enter a number\")) \n",
    "b =int(input(\"Enter a number\")) \n",
    "try:\n",
    "    c = a/b\n",
    "    print(c)\n",
    "except ZeroDivisionError:\n",
    "    print(\"Handled ZeroDivisionError\")\n"
   ]
  },
  {
   "cell_type": "code",
   "execution_count": 4,
   "metadata": {},
   "outputs": [
    {
     "name": "stdout",
     "output_type": "stream",
     "text": [
      "Enter a number4\n",
      "Enter a number3\n",
      "Else 1\n"
     ]
    }
   ],
   "source": [
    "\n",
    "a =int(input(\"Enter a number\")) \n",
    "b =int(input(\"Enter a number\")) \n",
    "try:\n",
    "    c = a/b\n",
    "except ZeroDivisionError:\n",
    "    print(\"Handled ZeroDivisionError\")\n",
    "else:\n",
    "    print(\"Else \" +str(int(c)))"
   ]
  },
  {
   "cell_type": "code",
   "execution_count": 6,
   "metadata": {},
   "outputs": [
    {
     "name": "stdout",
     "output_type": "stream",
     "text": [
      "First\n",
      "Enter a number7\n",
      "Enter a number8\n",
      "0.875\n",
      "last\n"
     ]
    }
   ],
   "source": [
    "\n",
    "\n",
    "print(\"First\")\n",
    "a =int(input(\"Enter a number\")) \n",
    "b =int(input(\"Enter a number\")) \n",
    "try:\n",
    "    c = a/b\n",
    "    print(c)\n",
    "except ZeroDivisionError:\n",
    "    print(\"Handled ZeroDivisionError\")\n",
    "\n",
    "\n",
    "print(\"last\")\n",
    "\n"
   ]
  },
  {
   "cell_type": "code",
   "execution_count": 7,
   "metadata": {},
   "outputs": [
    {
     "name": "stdout",
     "output_type": "stream",
     "text": [
      "Enter a number4\n",
      "Enter a number0\n",
      "Handled ZeroDivisionError\n"
     ]
    }
   ],
   "source": [
    "\n",
    "\n",
    "a =int(input(\"Enter a number\")) \n",
    "b =int(input(\"Enter a number\")) \n",
    "d = []\n",
    "try:\n",
    "    c = a/b\n",
    "    e = d[5]\n",
    "    print(e)\n",
    "except ZeroDivisionError:\n",
    "    print(\"Handled ZeroDivisionError\")\n",
    "else:\n",
    "    print(c)\n",
    "\n",
    "\n",
    "\n"
   ]
  },
  {
   "cell_type": "code",
   "execution_count": 10,
   "metadata": {},
   "outputs": [
    {
     "name": "stdout",
     "output_type": "stream",
     "text": [
      "First\n",
      "Enter a number8\n",
      "Enter a number0\n",
      "Handled ZeroDivisionError\n",
      "last\n"
     ]
    }
   ],
   "source": [
    "\n",
    "print(\"First\")\n",
    "a =int(input(\"Enter a number\")) \n",
    "b =int(input(\"Enter a number\")) \n",
    "d = []\n",
    "try:\n",
    "    c = a/b\n",
    "    e = d[5]\n",
    "except ZeroDivisionError:\n",
    "    print(\"Handled ZeroDivisionError\")\n",
    "else:\n",
    "    print(c)\n",
    "\n",
    "print(\"last\")\n",
    "\n"
   ]
  },
  {
   "cell_type": "code",
   "execution_count": 4,
   "metadata": {},
   "outputs": [
    {
     "name": "stdout",
     "output_type": "stream",
     "text": [
      "Enter a number9\n",
      "Enter a number9\n",
      "Exception is caught is list index out of range\n"
     ]
    }
   ],
   "source": [
    "a =int(input(\"Enter a number\")) \n",
    "b =int(input(\"Enter a number\")) \n",
    "d = []\n",
    "try:\n",
    "    c = a/b\n",
    "    e = d[5]\n",
    "except ZeroDivisionError: #Type I and press tab to get list of Exception\n",
    "    print(\"Exception is caught ZeroDivisionError\")\n",
    "except  IndexError:       #Type I and press tab to get list of Exception\n",
    "    print(\"Exception is caught is list index out of range\")\n",
    "else:\n",
    "    print(c)\n",
    "    print(e)"
   ]
  },
  {
   "cell_type": "code",
   "execution_count": 2,
   "metadata": {},
   "outputs": [
    {
     "name": "stdout",
     "output_type": "stream",
     "text": [
      "Enter a number7\n",
      "Enter a numberi\n"
     ]
    },
    {
     "ename": "ValueError",
     "evalue": "invalid literal for int() with base 10: 'i'",
     "output_type": "error",
     "traceback": [
      "\u001b[1;31m---------------------------------------------------------------------------\u001b[0m",
      "\u001b[1;31mValueError\u001b[0m                                Traceback (most recent call last)",
      "\u001b[1;32m<ipython-input-2-0dfc5fa6af7a>\u001b[0m in \u001b[0;36m<module>\u001b[1;34m()\u001b[0m\n\u001b[0;32m      2\u001b[0m \u001b[1;33m\u001b[0m\u001b[0m\n\u001b[0;32m      3\u001b[0m \u001b[0ma\u001b[0m \u001b[1;33m=\u001b[0m\u001b[0mint\u001b[0m\u001b[1;33m(\u001b[0m\u001b[0minput\u001b[0m\u001b[1;33m(\u001b[0m\u001b[1;34m\"Enter a number\"\u001b[0m\u001b[1;33m)\u001b[0m\u001b[1;33m)\u001b[0m\u001b[1;33m\u001b[0m\u001b[0m\n\u001b[1;32m----> 4\u001b[1;33m \u001b[0mb\u001b[0m \u001b[1;33m=\u001b[0m\u001b[0mint\u001b[0m\u001b[1;33m(\u001b[0m\u001b[0minput\u001b[0m\u001b[1;33m(\u001b[0m\u001b[1;34m\"Enter a number\"\u001b[0m\u001b[1;33m)\u001b[0m\u001b[1;33m)\u001b[0m\u001b[1;33m\u001b[0m\u001b[0m\n\u001b[0m\u001b[0;32m      5\u001b[0m \u001b[0md\u001b[0m \u001b[1;33m=\u001b[0m \u001b[1;33m[\u001b[0m\u001b[1;33m]\u001b[0m\u001b[1;33m\u001b[0m\u001b[0m\n\u001b[0;32m      6\u001b[0m \u001b[1;32mtry\u001b[0m\u001b[1;33m:\u001b[0m\u001b[1;33m\u001b[0m\u001b[0m\n",
      "\u001b[1;31mValueError\u001b[0m: invalid literal for int() with base 10: 'i'"
     ]
    }
   ],
   "source": [
    "a =int(input(\"Enter a number\")) \n",
    "b =int(input(\"Enter a number\")) \n",
    "d = []\n",
    "try:\n",
    "    c = a/b\n",
    "    e = d[5]\n",
    "except:           # here we did not explain the type of exception. Genral exception will\n",
    "                  # be used. means it will catch every kind of exception\n",
    "    print(\"Exception is caught\")\n",
    "else:\n",
    "    print(c)\n",
    "\n",
    "\n"
   ]
  },
  {
   "cell_type": "code",
   "execution_count": 6,
   "metadata": {},
   "outputs": [
    {
     "name": "stdout",
     "output_type": "stream",
     "text": [
      "Enter a number7\n",
      "Enter a numberi\n",
      "Handle Error == invalid literal for int() with base 10: 'i'\n",
      "HelloWorld\n"
     ]
    }
   ],
   "source": [
    "# a =int(input(\"Enter a number\")) \n",
    "# b =int(input(\"Enter a number\")) \n",
    "d = []\n",
    "try:\n",
    "    '''built in message print karna hy exception ka to {except Exception as e:}\n",
    "    is me jistrah ki acception aegi wo uska message khud he utha k laega or print karega\n",
    "    is code ko khud se run kare or exception raise kar k dekhen'''\n",
    "    a =int(input(\"Enter a number\")) \n",
    "    b =int(input(\"Enter a number\")) \n",
    "    c = a/b\n",
    "    e = d[5]\n",
    "except Exception as e:\n",
    "    print(\"Handle Error == \" +str(e))\n",
    "else:\n",
    "    print(c)\n",
    "\n",
    "print('HelloWorld')"
   ]
  },
  {
   "cell_type": "code",
   "execution_count": 7,
   "metadata": {},
   "outputs": [
    {
     "name": "stdout",
     "output_type": "stream",
     "text": [
      "Enter a number7\n",
      "Enter a number7\n",
      "Handle Error == list index out of range\n"
     ]
    }
   ],
   "source": [
    "a =int(input(\"Enter a number\")) \n",
    "b =int(input(\"Enter a number\")) \n",
    "d = []\n",
    "try:\n",
    "    c = a/b\n",
    "    e = d[5]\n",
    "    \n",
    "    \"\"\"yahan ek humne apni message likha hy or ek built in use kia hy\"\"\"\n",
    "    \n",
    "except ZeroDivisionError:\n",
    "    print(\"Handel ZeroDivisionError\")\n",
    "    \n",
    "except Exception as e:\n",
    "    \n",
    "    print(\"Handle Error == \" +str(e))\n",
    "    \n",
    "else:\n",
    "    print(c)"
   ]
  },
  {
   "cell_type": "code",
   "execution_count": 8,
   "metadata": {},
   "outputs": [
    {
     "name": "stdout",
     "output_type": "stream",
     "text": [
      "Enter a number4\n",
      "Enter a number5\n",
      "Handle Error\n",
      "Finally will always run\n"
     ]
    }
   ],
   "source": [
    "\n",
    "\n",
    "a =int(input(\"Enter a number\")) \n",
    "b =int(input(\"Enter a number\")) \n",
    "d = []\n",
    "try:\n",
    "    c = a/b\n",
    "    e = d[5]\n",
    "except ZeroDivisionError:\n",
    "    print(\"Handel ZeroDivisionError\")\n",
    "except:\n",
    "    print(\"Handle Error\")\n",
    "else:\n",
    "    print(c)\n",
    "finally:\n",
    "    print(\"Finally will always run\")"
   ]
  },
  {
   "cell_type": "markdown",
   "metadata": {},
   "source": []
  },
  {
   "cell_type": "raw",
   "metadata": {},
   "source": [
    "###Rasing our own exceptions\n",
    "\n",
    "We can rasie exception by ourselves. ony any condition we defined like if a>10 raise exception\n",
    "like if user inputs value 10 raise exception bla bla bla bla......"
   ]
  },
  {
   "cell_type": "code",
   "execution_count": 9,
   "metadata": {},
   "outputs": [
    {
     "data": {
      "text/plain": [
       "'exception raise karane k liye humne Exception python ki general wali use ki hy\\n   abhi code crash hogaya hy kyu k humne abhi exception catch nahiiiiiiiiiiii ki hy'"
      ]
     },
     "execution_count": 9,
     "metadata": {},
     "output_type": "execute_result"
    }
   ],
   "source": [
    "\n",
    "\n",
    "\n",
    "class Student():\n",
    "    def __init__(self,name,age):\n",
    "        if age > 80 or age <16:\n",
    "            raise Exception(\"Age can not be greater then 80 and less then 16\")\n",
    "        self.name = name\n",
    "        self.age = age\n",
    "\n",
    "\n",
    "'''humne yahan apni ek conditon lagae hy or uspe exception raise ki hy\n",
    "    ab agar user object banate waqt age 16 se kam ya 80 se zyada dalega\n",
    "    to humne exception raise kara deni hy '''\n",
    "####Note###\n",
    "'''exception raise karane k liye humne Exception python ki general wali use ki hy\n",
    "   abhi code crash hogaya hy kyu k humne abhi exception catch nahiiiiiiiiiiii ki hy'''"
   ]
  },
  {
   "cell_type": "code",
   "execution_count": 11,
   "metadata": {},
   "outputs": [
    {
     "name": "stdout",
     "output_type": "stream",
     "text": [
      "Enter students age: 90\n"
     ]
    },
    {
     "ename": "Exception",
     "evalue": "Age can not be greater then 80 and less then 16",
     "output_type": "error",
     "traceback": [
      "\u001b[1;31m---------------------------------------------------------------------------\u001b[0m",
      "\u001b[1;31mException\u001b[0m                                 Traceback (most recent call last)",
      "\u001b[1;32m<ipython-input-11-1034d573f8c8>\u001b[0m in \u001b[0;36m<module>\u001b[1;34m()\u001b[0m\n\u001b[0;32m      1\u001b[0m \u001b[0mage\u001b[0m \u001b[1;33m=\u001b[0m \u001b[0mint\u001b[0m\u001b[1;33m(\u001b[0m\u001b[0minput\u001b[0m\u001b[1;33m(\u001b[0m\u001b[1;34m\"Enter students age: \"\u001b[0m\u001b[1;33m)\u001b[0m\u001b[1;33m)\u001b[0m\u001b[1;33m\u001b[0m\u001b[0m\n\u001b[1;32m----> 2\u001b[1;33m \u001b[0mst\u001b[0m \u001b[1;33m=\u001b[0m \u001b[0mStudent\u001b[0m\u001b[1;33m(\u001b[0m\u001b[1;34m\"Hello\"\u001b[0m\u001b[1;33m,\u001b[0m\u001b[0mage\u001b[0m\u001b[1;33m)\u001b[0m\u001b[1;33m\u001b[0m\u001b[0m\n\u001b[0m\u001b[0;32m      3\u001b[0m \u001b[0mprint\u001b[0m\u001b[1;33m(\u001b[0m\u001b[0mst\u001b[0m\u001b[1;33m.\u001b[0m\u001b[0mage\u001b[0m\u001b[1;33m)\u001b[0m\u001b[1;33m\u001b[0m\u001b[0m\n",
      "\u001b[1;32m<ipython-input-9-05aae802f85b>\u001b[0m in \u001b[0;36m__init__\u001b[1;34m(self, name, age)\u001b[0m\n\u001b[0;32m      5\u001b[0m     \u001b[1;32mdef\u001b[0m \u001b[0m__init__\u001b[0m\u001b[1;33m(\u001b[0m\u001b[0mself\u001b[0m\u001b[1;33m,\u001b[0m\u001b[0mname\u001b[0m\u001b[1;33m,\u001b[0m\u001b[0mage\u001b[0m\u001b[1;33m)\u001b[0m\u001b[1;33m:\u001b[0m\u001b[1;33m\u001b[0m\u001b[0m\n\u001b[0;32m      6\u001b[0m         \u001b[1;32mif\u001b[0m \u001b[0mage\u001b[0m \u001b[1;33m>\u001b[0m \u001b[1;36m80\u001b[0m \u001b[1;32mor\u001b[0m \u001b[0mage\u001b[0m \u001b[1;33m<\u001b[0m\u001b[1;36m16\u001b[0m\u001b[1;33m:\u001b[0m\u001b[1;33m\u001b[0m\u001b[0m\n\u001b[1;32m----> 7\u001b[1;33m             \u001b[1;32mraise\u001b[0m \u001b[0mException\u001b[0m\u001b[1;33m(\u001b[0m\u001b[1;34m\"Age can not be greater then 80 and less then 16\"\u001b[0m\u001b[1;33m)\u001b[0m\u001b[1;33m\u001b[0m\u001b[0m\n\u001b[0m\u001b[0;32m      8\u001b[0m         \u001b[0mself\u001b[0m\u001b[1;33m.\u001b[0m\u001b[0mname\u001b[0m \u001b[1;33m=\u001b[0m \u001b[0mname\u001b[0m\u001b[1;33m\u001b[0m\u001b[0m\n\u001b[0;32m      9\u001b[0m         \u001b[0mself\u001b[0m\u001b[1;33m.\u001b[0m\u001b[0mage\u001b[0m \u001b[1;33m=\u001b[0m \u001b[0mage\u001b[0m\u001b[1;33m\u001b[0m\u001b[0m\n",
      "\u001b[1;31mException\u001b[0m: Age can not be greater then 80 and less then 16"
     ]
    }
   ],
   "source": [
    "age = int(input(\"Enter students age: \"))\n",
    "st = Student(\"Hello\",age)\n",
    "print(st.age)\n"
   ]
  },
  {
   "cell_type": "raw",
   "metadata": {},
   "source": [
    "#Catching the exception raised by ourself###\n",
    "Exception catch karne ki liye wahi kam karenge k jahan se raise hone k dar ho usko try me\n",
    "dal den. or except me catch kara den. Go through the code......"
   ]
  },
  {
   "cell_type": "code",
   "execution_count": 12,
   "metadata": {},
   "outputs": [],
   "source": [
    "class Student():\n",
    "    def __init__(self,name,age):\n",
    "        if age > 80:\n",
    "            raise Exception(\"Age can not be greater then 80\")\n",
    "        self.name = name\n",
    "        self.age = age\n",
    "\n",
    "\n"
   ]
  },
  {
   "cell_type": "code",
   "execution_count": 15,
   "metadata": {},
   "outputs": [
    {
     "name": "stdout",
     "output_type": "stream",
     "text": [
      "Exception Age can not be greater then 80\n"
     ]
    }
   ],
   "source": [
    "\n",
    "'''ab humen try except laga diya hy code crash nahi hoga or izzat batch jaegi hahahahah'''\n",
    "try:\n",
    "    st = Student(\"Hello\",600)   # send different ages and see the result\n",
    "except Exception as e:\n",
    "    print(\"Exception \"+str(e))\n",
    "else :\n",
    "    print(st.age)\n"
   ]
  },
  {
   "cell_type": "raw",
   "metadata": {},
   "source": [
    "\n",
    "#####################################################\n",
    "#######Importantttttttttttttttttttttttttttttttt######\n",
    "#####################################################"
   ]
  },
  {
   "cell_type": "raw",
   "metadata": {},
   "source": [
    "Making our class of exception::::::::\n",
    "Raising exception ourselves::::::\n",
    "\n",
    "Last code me we used python exception class\n",
    "Now we will make our own exception class and will used in the code.\n",
    "Dont panic guls and guys...\n",
    "\n"
   ]
  },
  {
   "cell_type": "code",
   "execution_count": 18,
   "metadata": {},
   "outputs": [],
   "source": [
    "\n",
    "class Student():\n",
    "    def __init__(self,name,age):\n",
    "        if age > 80 or age <16:\n",
    "            raise StudentAgeException(\"Age can not be greater then 80 and less then 16\")\n",
    "            # we used here own class of exceptio\n",
    "        self.name = name\n",
    "        self.age = age\n",
    "\n",
    "'''All the exception raised are derived from a class Exception by default \n",
    "   We can make our own class of exception and can derived(inherit) it from parent\n",
    "   Exception class like this:'''        \n",
    "        \n",
    "class StudentAgeException(Exception):\n",
    "    pass\n"
   ]
  },
  {
   "cell_type": "code",
   "execution_count": 21,
   "metadata": {},
   "outputs": [
    {
     "name": "stdout",
     "output_type": "stream",
     "text": [
      "Enter students age: 76\n",
      "76\n"
     ]
    },
    {
     "data": {
      "text/plain": [
       "'exception raise karane k liye humne Exception python ki general wali use nahiiiiiii ki hy\\n   abhi code crash hogaya hy kyu k humne abhi exception catch nahiiiiiiiiiiiiiiiiii ki hy'"
      ]
     },
     "execution_count": 21,
     "metadata": {},
     "output_type": "execute_result"
    }
   ],
   "source": [
    "age = int(input(\"Enter students age: \"))\n",
    "st = Student(\"Hello\",age)\n",
    "# abhi it is creating exception that is not handled\n",
    "print(st.age)\n",
    "\n",
    "####Note###\n",
    "'''exception raise karane k liye humne Exception python ki general wali use nahiiiiiii ki hy\n",
    "   abhi code crash hogaya hy kyu k humne abhi exception catch nahiiiiiiiiiiiiiiiiii ki hy'''"
   ]
  },
  {
   "cell_type": "raw",
   "metadata": {},
   "source": [
    "\n",
    "#################################################################################\n",
    "Raising and catching our own exception [[[[defined in our own exception class]]]]\n",
    "Raising and catching our own exception [[[[defined in our own exception class]]]]\n",
    "Raising and catching our own exception [[[[defined in our own exception class]]]]\n",
    "Raising and catching our own exception [[[[defined in our own exception class]]]]\n",
    "Raising and catching our own exception [[[[defined in our own exception class]]]]\n",
    "#################################################################################"
   ]
  },
  {
   "cell_type": "code",
   "execution_count": 42,
   "metadata": {},
   "outputs": [
    {
     "name": "stdout",
     "output_type": "stream",
     "text": [
      "StudentAgeException == Age can not be greater then 80 and less then 16\n"
     ]
    }
   ],
   "source": [
    "\n",
    "class Student():\n",
    "    def __init__(self,name,age):\n",
    "        if age > 80 or age <16:\n",
    "            raise StudentAgeException(\"Age can not be greater then 80 and less then 16\")\n",
    "        self.name = name\n",
    "        self.age = age\n",
    "\n",
    "class StudentAgeException(Exception):\n",
    "    pass\n",
    "\n",
    "\n",
    "try:\n",
    "    age = int(input(\"Enter students age: \"))\n",
    "    st = Student(\"Hello\",age)\n",
    "\n",
    "except StudentAgeException as e:\n",
    "    print(\"StudentAgeException == \"+str(e))\n",
    "else :\n",
    "    print(st.age)\n",
    "\n"
   ]
  },
  {
   "cell_type": "code",
   "execution_count": null,
   "metadata": {},
   "outputs": [],
   "source": []
  }
 ],
 "metadata": {
  "kernelspec": {
   "display_name": "Python 3",
   "language": "python",
   "name": "python3"
  },
  "language_info": {
   "codemirror_mode": {
    "name": "ipython",
    "version": 3
   },
   "file_extension": ".py",
   "mimetype": "text/x-python",
   "name": "python",
   "nbconvert_exporter": "python",
   "pygments_lexer": "ipython3",
   "version": "3.6.4"
  }
 },
 "nbformat": 4,
 "nbformat_minor": 2
}
