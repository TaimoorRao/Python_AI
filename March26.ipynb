{
 "cells": [
  {
   "cell_type": "code",
   "execution_count": 34,
   "metadata": {},
   "outputs": [
    {
     "name": "stdout",
     "output_type": "stream",
     "text": [
      "4 6 8 "
     ]
    }
   ],
   "source": [
    "break_list = [2,4,6,8,10]\n",
    "for i in break_list:\n",
    "    if i == 2 or i == 10:\n",
    "        continue\n",
    "    print (i, end=\" \")"
   ]
  },
  {
   "cell_type": "code",
   "execution_count": 57,
   "metadata": {},
   "outputs": [
    {
     "data": {
      "text/plain": [
       "['Asad Ali', 'Imran Khan', 'Fazeel Kamran', 'Waseem Badami', 'Adam Akhter']"
      ]
     },
     "execution_count": 57,
     "metadata": {},
     "output_type": "execute_result"
    }
   ],
   "source": [
    "first_name = ['Asad','Imran','Fazeel','Waseem','Adam']\n",
    "last_name = ['Ali','Khan','Kamran','Badami','Akhter']\n",
    "full_name = []\n",
    "for f in first_name:\n",
    "    for l in last_name:\n",
    "        if(first_name.index(f) == last_name.index(l)):\n",
    "            full_name.append(f + \" \" + l)\n",
    "full_name"
   ]
  },
  {
   "cell_type": "code",
   "execution_count": 60,
   "metadata": {},
   "outputs": [
    {
     "name": "stdout",
     "output_type": "stream",
     "text": [
      "Enter start Number: 3\n",
      "Enter End Number: 6\n",
      "3 * 1 = 3\n",
      "3 * 2 = 6\n",
      "3 * 3 = 9\n",
      "3 * 4 = 12\n",
      "3 * 5 = 15\n",
      "3 * 6 = 18\n",
      "3 * 7 = 21\n",
      "3 * 8 = 24\n",
      "3 * 9 = 27\n",
      "3 * 10 = 30\n",
      "\n",
      "\n",
      "4 * 1 = 4\n",
      "4 * 2 = 8\n",
      "4 * 3 = 12\n",
      "4 * 4 = 16\n",
      "4 * 5 = 20\n",
      "4 * 6 = 24\n",
      "4 * 7 = 28\n",
      "4 * 8 = 32\n",
      "4 * 9 = 36\n",
      "4 * 10 = 40\n",
      "\n",
      "\n",
      "5 * 1 = 5\n",
      "5 * 2 = 10\n",
      "5 * 3 = 15\n",
      "5 * 4 = 20\n",
      "5 * 5 = 25\n",
      "5 * 6 = 30\n",
      "5 * 7 = 35\n",
      "5 * 8 = 40\n",
      "5 * 9 = 45\n",
      "5 * 10 = 50\n",
      "\n",
      "\n"
     ]
    }
   ],
   "source": [
    "a =  int(input(\"Enter start Number: \"))\n",
    "b =  int(input(\"Enter End Number: \"))\n",
    "for n in range (a,b):\n",
    "    for i in range (1,11):\n",
    "        print(str(n)+\" * \"+str(i)+\" = \"+str(n*i))\n",
    "    print(\"\\n\")"
   ]
  },
  {
   "cell_type": "markdown",
   "metadata": {},
   "source": [
    "Dictionary"
   ]
  },
  {
   "cell_type": "code",
   "execution_count": 74,
   "metadata": {},
   "outputs": [
    {
     "data": {
      "text/plain": [
       "200"
      ]
     },
     "execution_count": 74,
     "metadata": {},
     "output_type": "execute_result"
    }
   ],
   "source": [
    "dct = {1:100,2:200,3:300}\n",
    "dct1 = {\"a\":\"apple\",\"b\":\"bara apple\"}\n",
    "dct2 = {1:\"apple\",2:\"mango\"}\n",
    "dct3 = {\"apple\":100,\"orange\":200}\n",
    "dct4 = {\"name\":['asad','saad']}\n",
    "dct5 = {1:[dct,dct1,dct2,dct3,dct4]}\n",
    "\n",
    "dct[1]\n",
    "\n",
    "dct5[1][0][2]"
   ]
  },
  {
   "cell_type": "code",
   "execution_count": null,
   "metadata": {},
   "outputs": [],
   "source": []
  }
 ],
 "metadata": {
  "kernelspec": {
   "display_name": "Python 3",
   "language": "python",
   "name": "python3"
  },
  "language_info": {
   "codemirror_mode": {
    "name": "ipython",
    "version": 3
   },
   "file_extension": ".py",
   "mimetype": "text/x-python",
   "name": "python",
   "nbconvert_exporter": "python",
   "pygments_lexer": "ipython3",
   "version": "3.6.4"
  }
 },
 "nbformat": 4,
 "nbformat_minor": 2
}
