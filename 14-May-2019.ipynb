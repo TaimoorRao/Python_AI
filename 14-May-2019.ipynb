{
 "cells": [
  {
   "cell_type": "code",
   "execution_count": 1,
   "metadata": {},
   "outputs": [],
   "source": [
    "import pandas as pd"
   ]
  },
  {
   "cell_type": "code",
   "execution_count": 2,
   "metadata": {},
   "outputs": [],
   "source": [
    "ele = pd.read_csv('Election.csv')"
   ]
  },
  {
   "cell_type": "code",
   "execution_count": 4,
   "metadata": {},
   "outputs": [
    {
     "data": {
      "text/html": [
       "<div>\n",
       "<style scoped>\n",
       "    .dataframe tbody tr th:only-of-type {\n",
       "        vertical-align: middle;\n",
       "    }\n",
       "\n",
       "    .dataframe tbody tr th {\n",
       "        vertical-align: top;\n",
       "    }\n",
       "\n",
       "    .dataframe thead th {\n",
       "        text-align: right;\n",
       "    }\n",
       "</style>\n",
       "<table border=\"1\" class=\"dataframe\">\n",
       "  <thead>\n",
       "    <tr style=\"text-align: right;\">\n",
       "      <th></th>\n",
       "      <th>District</th>\n",
       "      <th>Seat</th>\n",
       "      <th>Constituency_title</th>\n",
       "      <th>Candidate_Name</th>\n",
       "      <th>Party</th>\n",
       "    </tr>\n",
       "  </thead>\n",
       "  <tbody>\n",
       "    <tr>\n",
       "      <th>0</th>\n",
       "      <td>Chitral</td>\n",
       "      <td>Chitral</td>\n",
       "      <td>NA-1</td>\n",
       "      <td>lftikhar ud Din</td>\n",
       "      <td>Pakistan Muslim League(N)</td>\n",
       "    </tr>\n",
       "    <tr>\n",
       "      <th>1</th>\n",
       "      <td>Chitral</td>\n",
       "      <td>Chitral</td>\n",
       "      <td>NA-1</td>\n",
       "      <td>Taqdira Ajmal</td>\n",
       "      <td>Independent</td>\n",
       "    </tr>\n",
       "    <tr>\n",
       "      <th>2</th>\n",
       "      <td>Chitral</td>\n",
       "      <td>Chitral</td>\n",
       "      <td>NA-1</td>\n",
       "      <td>Saeed Ur Rehman</td>\n",
       "      <td>Pakistan Rah-e-Haq Part</td>\n",
       "    </tr>\n",
       "    <tr>\n",
       "      <th>3</th>\n",
       "      <td>Chitral</td>\n",
       "      <td>Chitral</td>\n",
       "      <td>NA-1</td>\n",
       "      <td>Saleem Khan</td>\n",
       "      <td>Pakistan Peoples Party Parliamentarians</td>\n",
       "    </tr>\n",
       "    <tr>\n",
       "      <th>4</th>\n",
       "      <td>Chitral</td>\n",
       "      <td>Chitral</td>\n",
       "      <td>NA-1</td>\n",
       "      <td>Shahzada Muharamad Taimur Khisrao</td>\n",
       "      <td>Independent</td>\n",
       "    </tr>\n",
       "  </tbody>\n",
       "</table>\n",
       "</div>"
      ],
      "text/plain": [
       "  District     Seat Constituency_title                     Candidate_Name  \\\n",
       "0  Chitral  Chitral               NA-1                   lftikhar ud Din    \n",
       "1  Chitral  Chitral               NA-1                      Taqdira Ajmal   \n",
       "2  Chitral  Chitral               NA-1                    Saeed Ur Rehman   \n",
       "3  Chitral  Chitral               NA-1                        Saleem Khan   \n",
       "4  Chitral  Chitral               NA-1  Shahzada Muharamad Taimur Khisrao   \n",
       "\n",
       "                                     Party  \n",
       "0                Pakistan Muslim League(N)  \n",
       "1                              Independent  \n",
       "2                  Pakistan Rah-e-Haq Part  \n",
       "3  Pakistan Peoples Party Parliamentarians  \n",
       "4                              Independent  "
      ]
     },
     "execution_count": 4,
     "metadata": {},
     "output_type": "execute_result"
    }
   ],
   "source": [
    "ele.head()"
   ]
  },
  {
   "cell_type": "code",
   "execution_count": null,
   "metadata": {},
   "outputs": [],
   "source": []
  }
 ],
 "metadata": {
  "kernelspec": {
   "display_name": "Python 3",
   "language": "python",
   "name": "python3"
  },
  "language_info": {
   "codemirror_mode": {
    "name": "ipython",
    "version": 3
   },
   "file_extension": ".py",
   "mimetype": "text/x-python",
   "name": "python",
   "nbconvert_exporter": "python",
   "pygments_lexer": "ipython3",
   "version": "3.6.4"
  }
 },
 "nbformat": 4,
 "nbformat_minor": 2
}
