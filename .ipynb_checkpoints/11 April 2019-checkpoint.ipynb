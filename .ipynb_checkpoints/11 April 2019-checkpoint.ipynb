{
 "cells": [
  {
   "cell_type": "code",
   "execution_count": 46,
   "metadata": {},
   "outputs": [],
   "source": [
    "class Person():\n",
    "    def __init__(self, firstname, lastname, age, gender, address):\n",
    "        self.firstname = firstname\n",
    "        self.lastname = lastname\n",
    "        self.age = age\n",
    "        self.gender = gender\n",
    "        self.address = address\n",
    "        \n",
    "    def get_descriptive_name(self):\n",
    "        descriptive_name = f'{self.firstname} {self.lastname} {self.age} {self.gender} {self.address}'\n",
    "        return descriptive_name\n",
    "    \n",
    "class Doctor(Person):\n",
    "    def __init__(self, firstname, lastname, age, gender, address, specialization):\n",
    "        super().__init__(firstname, lastname, age, gender, address)\n",
    "        self.specialization= specialization\n",
    "    \n",
    "    def get_doctor_info(self):\n",
    "        print(self.get_descriptive_name())\n",
    "        doctor_info = f'{self.specialization}'\n",
    "        return doctor_info\n",
    "\n",
    "class Patient(Person):\n",
    "    def __init__(self, firstname, lastname, age, gender, address, Problem):\n",
    "        super().__init__(firstname, lastname, age, gender, address)\n",
    "        self.Problem= Problem\n",
    "    \n",
    "    def get_Patient_info(self):\n",
    "        print(self.get_descriptive_name())\n",
    "        patient_info = f'{self.Problem}'\n",
    "        return patient_info"
   ]
  },
  {
   "cell_type": "code",
   "execution_count": 47,
   "metadata": {},
   "outputs": [],
   "source": [
    "doc = Doctor(\"Taimoor\", \"Khan\", \"20\", \"Male\", \"Karachi\", \"Neuro\")\n",
    "pat = Patient(\"Imran\", \"Khan\", \"23\", \"Male\", \"Karachi\", \"Rao ki jalana\")"
   ]
  },
  {
   "cell_type": "code",
   "execution_count": 48,
   "metadata": {},
   "outputs": [
    {
     "name": "stdout",
     "output_type": "stream",
     "text": [
      "Taimoor Khan 20 Male Karachi\n",
      "Neuro\n"
     ]
    }
   ],
   "source": [
    "print(doc.get_doctor_info())"
   ]
  },
  {
   "cell_type": "code",
   "execution_count": 49,
   "metadata": {},
   "outputs": [
    {
     "name": "stdout",
     "output_type": "stream",
     "text": [
      "Imran Khan 23 Male Karachi\n",
      "Rao ki jalana\n"
     ]
    }
   ],
   "source": [
    "print(pat.get_Patient_info())"
   ]
  },
  {
   "cell_type": "code",
   "execution_count": null,
   "metadata": {},
   "outputs": [],
   "source": []
  },
  {
   "cell_type": "markdown",
   "metadata": {},
   "source": [
    "### "
   ]
  }
 ],
 "metadata": {
  "kernelspec": {
   "display_name": "Python 3",
   "language": "python",
   "name": "python3"
  },
  "language_info": {
   "codemirror_mode": {
    "name": "ipython",
    "version": 3
   },
   "file_extension": ".py",
   "mimetype": "text/x-python",
   "name": "python",
   "nbconvert_exporter": "python",
   "pygments_lexer": "ipython3",
   "version": "3.6.4"
  }
 },
 "nbformat": 4,
 "nbformat_minor": 2
}
