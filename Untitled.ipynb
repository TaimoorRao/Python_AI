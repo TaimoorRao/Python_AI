{
 "cells": [
  {
   "cell_type": "code",
   "execution_count": 17,
   "metadata": {},
   "outputs": [],
   "source": [
    "# with open(\"hello.txt\",\"w\") as axiom:\n",
    "#     axiom.write(\"Imran\")\n",
    "#     r = axiom.read()\n",
    "#     print (r)"
   ]
  },
  {
   "cell_type": "code",
   "execution_count": 18,
   "metadata": {},
   "outputs": [],
   "source": [
    "# file = open(\"hello.txt\",\"w\")\n",
    "# file.write(\"Bithday Boy!!!!\")\n",
    "# file.close()    "
   ]
  },
  {
   "cell_type": "code",
   "execution_count": 49,
   "metadata": {},
   "outputs": [
    {
     "name": "stdout",
     "output_type": "stream",
     "text": [
      "jack\n",
      "imran has written code\n"
     ]
    }
   ],
   "source": [
    "with open(\"hello.txt\",\"a\") as axiom:\n",
    "    axiom.write(\"\\nimran has written code\")\n",
    "with open(\"hello.txt\",\"r\") as axiom:\n",
    "    r=axiom.read()\n",
    "    print(r)"
   ]
  },
  {
   "cell_type": "code",
   "execution_count": 50,
   "metadata": {},
   "outputs": [
    {
     "name": "stdout",
     "output_type": "stream",
     "text": [
      "jack\n",
      "imran has written code\n"
     ]
    }
   ],
   "source": [
    "with open(\"hello.txt\",\"r\") as axiom:\n",
    "    print(axiom.read())"
   ]
  },
  {
   "cell_type": "code",
   "execution_count": 38,
   "metadata": {},
   "outputs": [
    {
     "name": "stdout",
     "output_type": "stream",
     "text": [
      "['name', 'age', 'gender']\n",
      "['ali', '18', 'male']\n"
     ]
    }
   ],
   "source": [
    "import csv\n",
    "with open(\"mycsv.csv\") as f:\n",
    "    contents_of_file=csv.reader(f)\n",
    "    for each_line in contents_of_file:\n",
    "        print(each_line)"
   ]
  },
  {
   "cell_type": "code",
   "execution_count": 37,
   "metadata": {},
   "outputs": [],
   "source": [
    "with open(\"mycsv.csv\",\"w\",newline=\"\") as f:\n",
    "    data=csv.writer(f,delimiter=\",\")\n",
    "    data.writerow([\"name\",\"age\",\"gender\"])\n",
    "    data.writerow([\"ali\",\"18\",\"male\"])\n",
    "    "
   ]
  },
  {
   "cell_type": "code",
   "execution_count": 39,
   "metadata": {},
   "outputs": [],
   "source": [
    "import json\n",
    "mylist=[\"rao\",\"taimoor\",\"khan\"]\n",
    "with open(\"myjson.json\",\"w\") as f:\n",
    "    json.dump(mylist,f)"
   ]
  },
  {
   "cell_type": "code",
   "execution_count": 43,
   "metadata": {},
   "outputs": [
    {
     "name": "stdout",
     "output_type": "stream",
     "text": [
      "{'fname': 'rao', 'lname': 'taimoor'}\n"
     ]
    }
   ],
   "source": [
    "import json\n",
    "mylist=[\"rao\",\"taimoor\",\"khan\"]\n",
    "with open(\"myjson.json\",\"r\") as f:\n",
    "    print(json.load(f))"
   ]
  },
  {
   "cell_type": "code",
   "execution_count": 42,
   "metadata": {},
   "outputs": [],
   "source": [
    "customer_data={\n",
    "    \"fname\":\"rao\",\n",
    "    \"lname\":\"taimoor\"\n",
    "    \n",
    "    \n",
    "}\n",
    "import json\n",
    "\n",
    "with open(\"myjson.json\",\"w\") as f:\n",
    "    json.dump(customer_data,f)\n",
    "\n"
   ]
  },
  {
   "cell_type": "code",
   "execution_count": 56,
   "metadata": {},
   "outputs": [
    {
     "name": "stdout",
     "output_type": "stream",
     "text": [
      "jack\n",
      "imran has written code\n"
     ]
    }
   ],
   "source": [
    "with open(\"hello.txt\",\"r+\") as p:\n",
    "    p.write(\"jack\")\n",
    "    p.seek(0)\n",
    "    content = p.read()\n",
    "    print (content)"
   ]
  },
  {
   "cell_type": "markdown",
   "metadata": {},
   "source": [
    "### Exception"
   ]
  },
  {
   "cell_type": "code",
   "execution_count": 4,
   "metadata": {},
   "outputs": [
    {
     "name": "stdout",
     "output_type": "stream",
     "text": [
      "Enter Number1 here: 33\n",
      "Enter Number2 here: 4\n",
      "8.25\n"
     ]
    }
   ],
   "source": [
    "try:\n",
    "    n1 = int(input(\"Enter Number1 here: \"))\n",
    "    n2 = int(input(\"Enter Number2 here: \"))\n",
    "    result = n1/n2\n",
    "except ZeroDivisionError:\n",
    "    print (\"Zero se divide nhi ho!\")\n",
    "except IOError:\n",
    "    print(\"Alphabets nhi integer only!\") \n",
    "else:\n",
    "    print(result)"
   ]
  },
  {
   "cell_type": "markdown",
   "metadata": {},
   "source": [
    "### Module"
   ]
  },
  {
   "cell_type": "code",
   "execution_count": null,
   "metadata": {},
   "outputs": [],
   "source": []
  }
 ],
 "metadata": {
  "kernelspec": {
   "display_name": "Python 3",
   "language": "python",
   "name": "python3"
  },
  "language_info": {
   "codemirror_mode": {
    "name": "ipython",
    "version": 3
   },
   "file_extension": ".py",
   "mimetype": "text/x-python",
   "name": "python",
   "nbconvert_exporter": "python",
   "pygments_lexer": "ipython3",
   "version": "3.6.4"
  }
 },
 "nbformat": 4,
 "nbformat_minor": 2
}
