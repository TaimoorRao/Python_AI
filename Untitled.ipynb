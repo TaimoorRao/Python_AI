{
 "cells": [
  {
   "cell_type": "code",
   "execution_count": 8,
   "metadata": {},
   "outputs": [],
   "source": [
    "import numpy as np\n",
    "import pandas as pd\n",
    "import requests as rq\n",
    "import matplotlib.pyplot as plt"
   ]
  },
  {
   "cell_type": "code",
   "execution_count": 13,
   "metadata": {},
   "outputs": [],
   "source": [
    "getURL = rq.get('https://api.cryptonator.com/api/full/btc-usd').json()"
   ]
  },
  {
   "cell_type": "code",
   "execution_count": 14,
   "metadata": {},
   "outputs": [
    {
     "name": "stdout",
     "output_type": "stream",
     "text": [
      "{'ticker': {'base': 'BTC', 'target': 'USD', 'price': '7586.41648119', 'volume': '111441.45277433', 'change': '17.02325586', 'markets': [{'market': 'Binance', 'price': '7587.56000000', 'volume': 56353.048916}, {'market': 'BitFinex', 'price': '7567.00000000', 'volume': 12640.23783726}, {'market': 'Bitstamp', 'price': '7593.98000000', 'volume': 9204.15287756}, {'market': 'Bittrex', 'price': '7604.52100000', 'volume': 968.69997464}, {'market': 'Bleutrade', 'price': '7574.07540900', 'volume': 0.29230844}, {'market': 'C-Cex', 'price': '8025.00000100', 'volume': 0.29235275}, {'market': 'Cex.io', 'price': '7652.60000000', 'volume': 310.96795382}, {'market': 'Coinbase Pro', 'price': '7586.49000000', 'volume': 19355.4650443}, {'market': 'Exmo', 'price': '7584.15233370', 'volume': 967.90610807}, {'market': 'Hitbtc', 'price': '7594.67998000', 'volume': 17.94412}, {'market': 'IncoreX', 'price': '7952.28000000', 'volume': 77.56940184}, {'market': 'Kraken', 'price': '7585.50000000', 'volume': 9388.91712996}, {'market': 'Livecoin', 'price': '7620.00000000', 'volume': 1489.33921243}, {'market': 'Poloniex', 'price': '7589.86972461', 'volume': 639.09792935}, {'market': 'YoBit', 'price': '7650.00000001', 'volume': 27.52160791}]}, 'timestamp': 1558615023, 'success': True, 'error': ''}\n"
     ]
    }
   ],
   "source": [
    "print(getURL)"
   ]
  },
  {
   "cell_type": "code",
   "execution_count": 15,
   "metadata": {},
   "outputs": [],
   "source": [
    "df1 = pd.DataFrame(getURL)"
   ]
  },
  {
   "cell_type": "code",
   "execution_count": 18,
   "metadata": {},
   "outputs": [
    {
     "data": {
      "text/html": [
       "<div>\n",
       "<style scoped>\n",
       "    .dataframe tbody tr th:only-of-type {\n",
       "        vertical-align: middle;\n",
       "    }\n",
       "\n",
       "    .dataframe tbody tr th {\n",
       "        vertical-align: top;\n",
       "    }\n",
       "\n",
       "    .dataframe thead th {\n",
       "        text-align: right;\n",
       "    }\n",
       "</style>\n",
       "<table border=\"1\" class=\"dataframe\">\n",
       "  <thead>\n",
       "    <tr style=\"text-align: right;\">\n",
       "      <th></th>\n",
       "      <th>error</th>\n",
       "      <th>success</th>\n",
       "      <th>ticker</th>\n",
       "      <th>timestamp</th>\n",
       "    </tr>\n",
       "  </thead>\n",
       "  <tbody>\n",
       "    <tr>\n",
       "      <th>base</th>\n",
       "      <td></td>\n",
       "      <td>True</td>\n",
       "      <td>BTC</td>\n",
       "      <td>1558615023</td>\n",
       "    </tr>\n",
       "    <tr>\n",
       "      <th>change</th>\n",
       "      <td></td>\n",
       "      <td>True</td>\n",
       "      <td>17.02325586</td>\n",
       "      <td>1558615023</td>\n",
       "    </tr>\n",
       "    <tr>\n",
       "      <th>markets</th>\n",
       "      <td></td>\n",
       "      <td>True</td>\n",
       "      <td>[{'market': 'Binance', 'price': '7587.56000000...</td>\n",
       "      <td>1558615023</td>\n",
       "    </tr>\n",
       "    <tr>\n",
       "      <th>price</th>\n",
       "      <td></td>\n",
       "      <td>True</td>\n",
       "      <td>7586.41648119</td>\n",
       "      <td>1558615023</td>\n",
       "    </tr>\n",
       "    <tr>\n",
       "      <th>target</th>\n",
       "      <td></td>\n",
       "      <td>True</td>\n",
       "      <td>USD</td>\n",
       "      <td>1558615023</td>\n",
       "    </tr>\n",
       "    <tr>\n",
       "      <th>volume</th>\n",
       "      <td></td>\n",
       "      <td>True</td>\n",
       "      <td>111441.45277433</td>\n",
       "      <td>1558615023</td>\n",
       "    </tr>\n",
       "  </tbody>\n",
       "</table>\n",
       "</div>"
      ],
      "text/plain": [
       "        error  success                                             ticker  \\\n",
       "base              True                                                BTC   \n",
       "change            True                                        17.02325586   \n",
       "markets           True  [{'market': 'Binance', 'price': '7587.56000000...   \n",
       "price             True                                      7586.41648119   \n",
       "target            True                                                USD   \n",
       "volume            True                                    111441.45277433   \n",
       "\n",
       "          timestamp  \n",
       "base     1558615023  \n",
       "change   1558615023  \n",
       "markets  1558615023  \n",
       "price    1558615023  \n",
       "target   1558615023  \n",
       "volume   1558615023  "
      ]
     },
     "execution_count": 18,
     "metadata": {},
     "output_type": "execute_result"
    }
   ],
   "source": [
    "df1"
   ]
  },
  {
   "cell_type": "code",
   "execution_count": null,
   "metadata": {},
   "outputs": [],
   "source": []
  }
 ],
 "metadata": {
  "kernelspec": {
   "display_name": "Python 3",
   "language": "python",
   "name": "python3"
  },
  "language_info": {
   "codemirror_mode": {
    "name": "ipython",
    "version": 3
   },
   "file_extension": ".py",
   "mimetype": "text/x-python",
   "name": "python",
   "nbconvert_exporter": "python",
   "pygments_lexer": "ipython3",
   "version": "3.6.4"
  }
 },
 "nbformat": 4,
 "nbformat_minor": 2
}
